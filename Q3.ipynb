{
 "cells": [
  {
   "cell_type": "markdown",
   "id": "5f42a3ce",
   "metadata": {},
   "source": [
    "<h1 align=\"center\">Introduction to Machine Learning - 25737-2</h1>\n",
    "<h4 align=\"center\">Dr. R. Amiri</h4>\n",
    "<h4 align=\"center\">Sharif University of Technology, Spring 2024</h4>\n",
    "\n",
    "\n",
    "**<font color='red'>Plagiarism is strongly prohibited!</font>**\n",
    "\n",
    "\n",
    "**Student Name**:s.Yahya Tehrani\n",
    "\n",
    "**Student ID**:400109265\n",
    "\n",
    "\n",
    "\n"
   ]
  },
  {
   "cell_type": "markdown",
   "id": "a01c559e",
   "metadata": {},
   "source": [
    "## Importing Libraries\n",
    "\n",
    "First we import libraries that we need for this assignment."
   ]
  },
  {
   "cell_type": "code",
   "execution_count": 1,
   "id": "0423187e",
   "metadata": {},
   "outputs": [],
   "source": [
    "import numpy as np\n",
    "import pandas as pd\n",
    "import matplotlib.pyplot as plt\n",
    "\n",
    "# import any other libraries needed below"
   ]
  },
  {
   "cell_type": "markdown",
   "id": "2f795731",
   "metadata": {},
   "source": [
    "## Reading Data and Preprocessing\n",
    "\n",
    "In this section, we want to read data from a CSV file and then preprocess it to make it ready for the rest of the problem.\n",
    "\n",
    "First, we read the data in the cell below and extract an $m \\times n$ matrix, $X$, and an $m \\times 1$ vector, $Y$, from it, which represent our knowledge about the features of the data (`X1`, `X2`, `X3`) and the class (`Y`), respectively. Note that by $m$, we mean the number of data points and by $n$, we mean the number of features."
   ]
  },
  {
   "cell_type": "code",
   "execution_count": 3,
   "id": "410e750d",
   "metadata": {},
   "outputs": [
    {
     "name": "stdout",
     "output_type": "stream",
     "text": [
      "(10000, 3)\n",
      "(10000,)\n"
     ]
    }
   ],
   "source": [
    "X, Y = None, None\n",
    "\n",
    "### START CODE HERE ###\n",
    "df = pd.read_csv('data2_logistic.csv')\n",
    "\n",
    "X = df.drop('Y', axis=1)  # Features (all columns except 'Y')\n",
    "Y = df['Y']  # Labels\n",
    "### END CODE HERE ###\n",
    "\n",
    "print(X.shape)\n",
    "print(Y.shape)"
   ]
  },
  {
   "cell_type": "markdown",
   "id": "866734e2",
   "metadata": {},
   "source": [
    "Next, we should normalize our data. For normalizing a vector $\\mathbf{x}$, a very common method is to use this formula:\n",
    "\n",
    "$$\n",
    "\\mathbf{x}_{norm} = \\dfrac{\\mathbf{x} - \\overline{\\mathbf{x}}}{\\sigma_\\mathbf{x}}\n",
    "$$\n",
    "\n",
    "Here, $\\overline{x}$ and $\\sigma_\\mathbf{x}$ denote the mean and standard deviation of vector $\\mathbf{x}$, respectively. Use this formula and store the new $X$ and $Y$ vectors in the cell below.\n",
    "\n",
    "**Question**: Briefly explain why we need to normalize our data before starting the training.\n",
    "\n",
    "**Answer**:\n",
    "\n",
    "\n",
    "Normalizing the data before training is essential for several reasons:\n",
    "\n",
    "1. **Scale Invariance:** Normalizing ensures that the scale of each feature is consistent, preventing features with larger scales from dominating those with smaller scales. This helps the model learn the relative importance of each feature correctly.\n",
    "\n",
    "2. **Faster Convergence:** Normalizing the data often leads to faster convergence during training. It helps to prevent oscillations and divergence in the optimization process, allowing the model to converge more quickly to the optimal solution.\n",
    "\n",
    "3. **Regularization:** Normalization can act as a form of regularization, preventing the model from overfitting by constraining the range of feature values.\n",
    "\n",
    "4. **Improves Numerical Stability:** Normalizing the data can improve the numerical stability of the training process, particularly when using gradient-based optimization algorithms.\n",
    "\n",
    "Overall, normalization is a crucial preprocessing step that helps to ensure the effectiveness and stability of the training process, leading to better performance of the trained model.\n"
   ]
  },
  {
   "cell_type": "code",
   "execution_count": 4,
   "id": "9e757eb0",
   "metadata": {},
   "outputs": [
    {
     "name": "stdout",
     "output_type": "stream",
     "text": [
      "X_norm shape: (10000, 3)\n",
      "Y_norm shape: (10000,)\n"
     ]
    }
   ],
   "source": [
    "### START CODE HERE ###\n",
    "import numpy as np\n",
    "\n",
    "# Calculate mean and standard deviation for each feature\n",
    "X_mean = np.mean(X, axis=0)\n",
    "X_std = np.std(X, axis=0)\n",
    "\n",
    "# Normalize the features\n",
    "X_norm = (X - X_mean) / X_std\n",
    "\n",
    "# Keep Y unchanged\n",
    "Y_norm = Y\n",
    "\n",
    "print(\"X_norm shape:\", X_norm.shape)\n",
    "print(\"Y_norm shape:\", Y_norm.shape)\n",
    "\n",
    "### END CODE HERE ###"
   ]
  },
  {
   "cell_type": "markdown",
   "id": "5465bfa4",
   "metadata": {},
   "source": [
    "Finally, we should add a column of $1$s at the beginning of $X$ to represent the bias term. Do this in the next cell. Note that after this process, $X$ should be an $m \\times (n+1)$ matrix."
   ]
  },
  {
   "cell_type": "code",
   "execution_count": 5,
   "id": "b9a60f1f",
   "metadata": {},
   "outputs": [
    {
     "name": "stdout",
     "output_type": "stream",
     "text": [
      "(10000, 4)\n"
     ]
    }
   ],
   "source": [
    "### START CODE HERE ###\n",
    "X = np.hstack((np.ones((X.shape[0], 1)), X))\n",
    "### END CODE HERE ###\n",
    "\n",
    "print(X.shape)"
   ]
  },
  {
   "cell_type": "markdown",
   "id": "5cdf0d78",
   "metadata": {},
   "source": [
    "## Training Model"
   ]
  },
  {
   "cell_type": "markdown",
   "id": "c8714abe",
   "metadata": {},
   "source": [
    "### Sigmoid Function\n",
    "You should begin by implementing the $\\sigma(\\mathbf{x})$ function. Recall that the logistic regression hypothesis $\\mathcal{h}()$ is defined as:\n",
    "$$\n",
    "\\mathcal{h}_{\\theta}(\\mathbf{x}) = \\mathcal{g}(\\theta^\\mathbf{T}\\mathbf{x})\n",
    "$$\n",
    "where $\\mathcal{g}()$ is the sigmoid function as:\n",
    "$$\n",
    "\\mathcal{g}(\\mathbf{z}) = \\frac{1}{1+exp^{-\\mathbf{z}}}\n",
    "$$\n",
    "The Sigmoid function has the property that $\\mathbf{g}(+\\infty)\\approx 1$ and $\\mathcal{g}(−\\infty)\\approx0$. Test your function by calling `sigmoid(z)` on different test samples. Be certain that your sigmoid function works with both vectors and matrices - for either a vector or a matrix, your function should perform the sigmoid function on every element."
   ]
  },
  {
   "cell_type": "code",
   "execution_count": 6,
   "id": "6a6b6ae4",
   "metadata": {},
   "outputs": [],
   "source": [
    "def sigmoid(self, Z):\n",
    "    '''\n",
    "    Applies the sigmoid function on every element of Z\n",
    "    Arguments:\n",
    "        Z can be a (n,) vector or (n , m) matrix\n",
    "    Returns:\n",
    "        A vector/matrix, same shape with Z, that has the sigmoid function applied elementwise\n",
    "    '''\n",
    "    ### START CODE HERE ###\n",
    "    return 1 / (1 + np.exp(-Z))\n",
    "    ### END CODE HERE ###"
   ]
  },
  {
   "cell_type": "markdown",
   "id": "83846074",
   "metadata": {},
   "source": [
    "### Cost Function \n",
    "Implement the functions to compute the cost function. Recall the cost function for logistic regression is a scalar value given by:\n",
    "$$\n",
    "\\mathcal{J}(\\theta) = \\sum_{i=1}^{n}[-y^{(i)}\\log{(\\mathcal{h}_\\theta(\\mathbf{x}^{(i)}))}-(1-y^{(i)})\\log{(1-\\mathcal{h}_\\theta(\\mathbf{x}^{(i)}))}] + \\frac{\\lambda}{2}||\\theta||_2^2\n",
    "$$"
   ]
  },
  {
   "cell_type": "code",
   "execution_count": 9,
   "id": "26a9bdeb",
   "metadata": {},
   "outputs": [],
   "source": [
    "def computeCost(theta, X, y, regLambda):\n",
    "    '''\n",
    "    Computes the objective function\n",
    "    Arguments:\n",
    "        theta is d-dimensional numpy vector\n",
    "        X is a n-by-d numpy matrix\n",
    "        y is an n-dimensional numpy vector\n",
    "        regLambda is the scalar regularization constant\n",
    "    Returns:\n",
    "        a scalar value of the cost  ** make certain you're not returning a 1 x 1 matrix! **\n",
    "    '''\n",
    "    \n",
    "    m, n = X.shape\n",
    "    loss = None\n",
    "    ### START CODE HERE ###\n",
    "\n",
    "    # Compute the hypothesis\n",
    "    h = sigmoid(np.dot(X, theta))\n",
    "    \n",
    "    # Compute the regularized cost function\n",
    "    loss = -1/m * np.sum(y * np.log(h) + (1 - y) * np.log(1 - h)) + regLambda / (2 * m) * np.sum(np.square(theta[1:]))\n",
    "    \n",
    "    ### END CODE HERE ###\n",
    "    return loss"
   ]
  },
  {
   "cell_type": "markdown",
   "id": "6eaf1146",
   "metadata": {},
   "source": [
    "### Gradient of the Cost Function\n",
    "Now, we want to calculate the gradient of the cost function. The gradient of the cost function is a d-dimensional vector.\\\n",
    "We must be careful not to regularize the $\\theta_0$ parameter (corresponding to the first feature we add to each instance), and so the 0's element is given by:\n",
    "$$\n",
    "\\frac{\\partial \\mathcal{J}(\\theta)}{\\partial \\theta_0} = \\sum_{i=1}^n (\\mathcal{h}_\\theta(\\mathbf{x}^{(i)})-y^{(i)})\n",
    "$$\n",
    "\n",
    "Question: What is the answer to this problem for the $j^{th}$ element (for $j=1...d$)?\n",
    "\n",
    "Answer:\n",
    "$$\n",
    "\\frac{\\partial \\mathcal{J}(\\theta)}{\\partial \\theta_j} = \\sum_{i=1}^n (\\mathcal{h}_\\theta(\\mathbf{x}^{(i)}) - y^{(i)}) x_j^{(i)} + \\lambda \\theta_j\n",
    "$$\n",
    "\n"
   ]
  },
  {
   "cell_type": "code",
   "execution_count": 10,
   "id": "35f7c2dd",
   "metadata": {},
   "outputs": [],
   "source": [
    "def computeGradient(theta, X, y, regLambda):\n",
    "    '''\n",
    "    Computes the gradient of the objective function\n",
    "    Arguments:\n",
    "        theta is d-dimensional numpy vector\n",
    "        X is a n-by-d numpy matrix\n",
    "        y is an n-dimensional numpy vector\n",
    "        regLambda is the scalar regularization constant\n",
    "    Returns:\n",
    "        the gradient, an d-dimensional vector\n",
    "    '''\n",
    "    \n",
    "    m, n = X.shape\n",
    "    grad = None\n",
    "    ### START CODE HERE ###\n",
    "    # Compute the hypothesis\n",
    "    h = sigmoid(np.dot(X, theta))\n",
    "    \n",
    "    # Compute the gradient\n",
    "    grad = (1/m) * np.dot(X.T, (h - y))\n",
    "    \n",
    "    # Regularize gradient (except for bias term)\n",
    "    grad[1:] += (regLambda / m) * theta[1:]\n",
    "    ### END CODE HERE ###\n",
    "    return grad"
   ]
  },
  {
   "cell_type": "markdown",
   "id": "24bc86bd",
   "metadata": {},
   "source": [
    "### Training and Prediction\n",
    "Once you have the cost and gradient functions complete, implemen tthe fit and predict methods.\\\n",
    "Your fit method should train the model via gradient descent, relying on the cost and gradient functions. This function should return two parameters. The first parameter is $\\theta$, and the second parameter is a `numpy` array that contains the loss in each iteration. This array is indicated by `loss_history` in the code.\\\n",
    "Instead of simply running gradient descent for a specific number of iterations, we will use a more sophisticated method: we will stop it after the solution hasconverged. Stop the gradient descent procedure when $\\theta$ stops changing between consecutive iterations. You can detect this convergence when:\n",
    "$$\n",
    "||\\theta_{new}-\\theta_{old}||_2 <= \\epsilon,\n",
    "$$\n",
    "for some small $\\epsilon$ (e.g, $\\epsilon=10E-4$).\\\n",
    "For readability, we’d recommend implementing this convergence test as a dedicated function `hasConverged`."
   ]
  },
  {
   "cell_type": "code",
   "execution_count": 14,
   "id": "cc0cad78",
   "metadata": {},
   "outputs": [],
   "source": [
    "import numpy as np\n",
    "\n",
    "def fit(X, y, regLambda=0.01, alpha=0.01, epsilon=1e-4, maxNumIters=100):\n",
    "    '''\n",
    "    Trains the model\n",
    "    Arguments:\n",
    "        X           is a n-by-d numpy matrix\n",
    "        y           is an n-dimensional numpy vector\n",
    "        maxNumIters is the maximum number of gradient descent iterations\n",
    "        regLambda   is the scalar regularization constant\n",
    "        epsilon     is the convergence rate\n",
    "        alpha       is the gradient descent learning rate\n",
    "    '''\n",
    "\n",
    "    m, n = X.shape\n",
    "    theta = np.zeros(n)\n",
    "    \n",
    "    ### START CODE HERE ###\n",
    "    loss_history = []\n",
    "\n",
    "    def hasConverged(theta_old, theta_new, epsilon):\n",
    "        return np.linalg.norm(theta_old - theta_new) <= epsilon\n",
    "\n",
    "    for i in range(maxNumIters):\n",
    "        # Compute hypothesis\n",
    "        hypothesis = np.dot(X, theta)\n",
    "\n",
    "        # Compute loss\n",
    "        error = hypothesis - y\n",
    "        loss = np.mean(error ** 2) + regLambda * np.sum(theta[1:] ** 2)\n",
    "        loss_history.append(loss)\n",
    "\n",
    "        # Compute gradient\n",
    "        gradient = np.dot(X.T, error) / m\n",
    "        gradient[1:] += (regLambda / m) * theta[1:]\n",
    "\n",
    "        # Update parameters\n",
    "        theta_new = theta - alpha * gradient\n",
    "\n",
    "        # Check convergence\n",
    "        if hasConverged(theta, theta_new, epsilon):\n",
    "            break\n",
    "\n",
    "        theta = theta_new\n",
    "        \n",
    "    ### END CODE HERE ###\n",
    "\n",
    "    return theta, np.array(loss_history)\n",
    "\n",
    "\n",
    "def hasConverged(theta_old, theta_new, epsilon):\n",
    "    '''\n",
    "    Return if the theta converged or not\n",
    "    Arguments:\n",
    "        theta_old   is the theta calculated in previous iteration\n",
    "        theta_new   is the theta calculated in current iteration\n",
    "        epsilon     is the convergence rate\n",
    "    '''\n",
    "    return np.linalg.norm(theta_old - theta_new) <= epsilon\n"
   ]
  },
  {
   "cell_type": "markdown",
   "id": "bb648852",
   "metadata": {},
   "source": [
    "Finally, we want to evaluate our loss for this problem. Complete the cell below to calculate and print the loss of each iteration and the final theta of your model."
   ]
  },
  {
   "cell_type": "code",
   "execution_count": 15,
   "id": "252e556f",
   "metadata": {},
   "outputs": [
    {
     "name": "stdout",
     "output_type": "stream",
     "text": [
      "Iteration 1: Loss = 0.4108\n",
      "Iteration 2: Loss = 367528.80831961153\n",
      "Iteration 3: Loss = 2137960273692.3777\n",
      "Iteration 4: Loss = 1.245973337756074e+19\n",
      "Iteration 5: Loss = 7.261365946367565e+25\n",
      "Iteration 6: Loss = 4.231826945329883e+32\n",
      "Iteration 7: Loss = 2.4662521387156694e+39\n",
      "Iteration 8: Loss = 1.4372987577934782e+46\n",
      "Iteration 9: Loss = 8.376384906980674e+52\n",
      "Iteration 10: Loss = 4.881645081055256e+59\n",
      "Iteration 11: Loss = 2.844957456232854e+66\n",
      "Iteration 12: Loss = 1.658003151270739e+73\n",
      "Iteration 13: Loss = 9.662620590691492e+79\n",
      "Iteration 14: Loss = 5.631246032801407e+86\n",
      "Iteration 15: Loss = 3.2818148642295125e+93\n",
      "Iteration 16: Loss = 1.912597805235622e+100\n",
      "Iteration 17: Loss = 1.1146364179354555e+107\n",
      "Iteration 18: Loss = 6.495951949683032e+113\n",
      "Iteration 19: Loss = 3.785753906260271e+120\n",
      "Iteration 20: Loss = 2.206286738229974e+127\n",
      "Iteration 21: Loss = 1.2857943996940878e+134\n",
      "Iteration 22: Loss = 7.493437773238109e+140\n",
      "Iteration 23: Loss = 4.367075301832941e+147\n",
      "Iteration 24: Loss = 2.545073071800276e+154\n",
      "Iteration 25: Loss = 1.4832345432844217e+161\n",
      "Iteration 26: Loss = 8.644092520439807e+167\n",
      "Iteration 27: Loss = 5.037661497315559e+174\n",
      "Iteration 28: Loss = 2.935881736749897e+181\n",
      "Iteration 29: Loss = 1.710992605750633e+188\n",
      "Iteration 30: Loss = 9.971436043517764e+194\n",
      "Iteration 31: Loss = 5.811219547985352e+201\n",
      "Iteration 32: Loss = 3.3867010215485144e+208\n",
      "Iteration 33: Loss = 1.9737240547612925e+215\n",
      "Iteration 34: Loss = 1.1502599785327826e+222\n",
      "Iteration 35: Loss = 6.70356129582791e+228\n",
      "Iteration 36: Loss = 3.906745856205713e+235\n",
      "Iteration 37: Loss = 2.27679922826684e+242\n",
      "Iteration 38: Loss = 1.3268881357107457e+249\n",
      "Iteration 39: Loss = 7.732926570034814e+255\n",
      "Iteration 40: Loss = 4.506646169197951e+262\n",
      "Iteration 41: Loss = 2.6264131063971938e+269\n",
      "Iteration 42: Loss = 1.5306384274411833e+276\n",
      "Iteration 43: Loss = 8.920356016550071e+282\n",
      "Iteration 44: Loss = 5.198664167541179e+289\n",
      "Iteration 45: Loss = 3.0297119393816494e+296\n",
      "Iteration 46: Loss = 1.765675592769288e+303\n",
      "Iteration 47: Loss = inf\n",
      "Iteration 48: Loss = inf\n",
      "Iteration 49: Loss = inf\n",
      "Iteration 50: Loss = inf\n",
      "Iteration 51: Loss = inf\n",
      "Iteration 52: Loss = inf\n",
      "Iteration 53: Loss = inf\n",
      "Iteration 54: Loss = inf\n",
      "Iteration 55: Loss = inf\n",
      "Iteration 56: Loss = inf\n",
      "Iteration 57: Loss = inf\n",
      "Iteration 58: Loss = inf\n",
      "Iteration 59: Loss = inf\n",
      "Iteration 60: Loss = inf\n",
      "Iteration 61: Loss = inf\n",
      "Iteration 62: Loss = inf\n",
      "Iteration 63: Loss = inf\n",
      "Iteration 64: Loss = inf\n",
      "Iteration 65: Loss = inf\n",
      "Iteration 66: Loss = inf\n",
      "Iteration 67: Loss = inf\n",
      "Iteration 68: Loss = inf\n",
      "Iteration 69: Loss = inf\n",
      "Iteration 70: Loss = inf\n",
      "Iteration 71: Loss = inf\n",
      "Iteration 72: Loss = inf\n",
      "Iteration 73: Loss = inf\n",
      "Iteration 74: Loss = inf\n",
      "Iteration 75: Loss = inf\n",
      "Iteration 76: Loss = inf\n",
      "Iteration 77: Loss = inf\n",
      "Iteration 78: Loss = inf\n",
      "Iteration 79: Loss = inf\n",
      "Iteration 80: Loss = inf\n",
      "Iteration 81: Loss = inf\n",
      "Iteration 82: Loss = inf\n",
      "Iteration 83: Loss = inf\n",
      "Iteration 84: Loss = inf\n",
      "Iteration 85: Loss = inf\n",
      "Iteration 86: Loss = inf\n",
      "Iteration 87: Loss = inf\n",
      "Iteration 88: Loss = inf\n",
      "Iteration 89: Loss = inf\n",
      "Iteration 90: Loss = inf\n",
      "Iteration 91: Loss = inf\n",
      "Iteration 92: Loss = inf\n",
      "Iteration 93: Loss = nan\n",
      "Iteration 94: Loss = nan\n",
      "Iteration 95: Loss = nan\n",
      "Iteration 96: Loss = nan\n",
      "Iteration 97: Loss = nan\n",
      "Iteration 98: Loss = nan\n",
      "Iteration 99: Loss = nan\n",
      "Iteration 100: Loss = nan\n",
      "Final Theta: [nan nan nan nan]\n"
     ]
    },
    {
     "name": "stderr",
     "output_type": "stream",
     "text": [
      "C:\\Users\\Asus\\AppData\\Local\\Temp\\ipykernel_15052\\1965551087.py:30: RuntimeWarning: overflow encountered in square\n",
      "  loss = np.mean(error ** 2) + regLambda * np.sum(theta[1:] ** 2)\n"
     ]
    }
   ],
   "source": [
    "theta, loss_history = fit(X, Y) # calculating theta and loss of each iteration\n",
    "\n",
    "### START CODE HERE ###\n",
    "for i, loss in enumerate(loss_history):\n",
    "    print(f\"Iteration {i+1}: Loss = {loss}\")\n",
    "\n",
    "print(\"Final Theta:\", theta)\n",
    "### END CODE HERE ###"
   ]
  },
  {
   "cell_type": "markdown",
   "id": "f4b3fab6",
   "metadata": {},
   "source": [
    "### Testing Your Implementation\n",
    "To test your logistic regression implementation, first you should use `train_test_split` function to split dataset into three parts:\n",
    "\n",
    "- 70% for the training set\n",
    "- 20% for the validation set\n",
    "- 10% for the test set\n",
    "\n",
    "Do this in the cell below."
   ]
  },
  {
   "cell_type": "code",
   "execution_count": 18,
   "id": "4518fe11",
   "metadata": {},
   "outputs": [
    {
     "name": "stdout",
     "output_type": "stream",
     "text": [
      "Training set size: 7200\n",
      "Validation set size: 1800\n",
      "Test set size: 1000\n"
     ]
    }
   ],
   "source": [
    "from sklearn.model_selection import train_test_split\n",
    "\n",
    "X_train, Y_train, X_val, Y_val, X_test, Y_test = None, None, None, None, None, None\n",
    "### START CODE HERE ###\n",
    "# Split the dataset into training (70%) and temporary (30%)\n",
    "X_train_temp, X_test, Y_train_temp, Y_test = train_test_split(X, Y, test_size=0.1, random_state=42)\n",
    "\n",
    "# Further split the temporary dataset into training (70%) and validation (30%)\n",
    "X_train, X_val, Y_train, Y_val = train_test_split(X_train_temp, Y_train_temp, test_size=0.2, random_state=42)\n",
    "### END CODE HERE ###\n",
    "\n",
    "print(\"Training set size:\", X_train.shape[0])\n",
    "print(\"Validation set size:\", X_val.shape[0])\n",
    "print(\"Test set size:\", X_test.shape[0])\n"
   ]
  },
  {
   "cell_type": "markdown",
   "id": "f9fbe5d7",
   "metadata": {},
   "source": [
    "Then, you should complete `predict` function to find the weight vector and the loss on the test data."
   ]
  },
  {
   "cell_type": "code",
   "execution_count": 19,
   "id": "95c2fe20",
   "metadata": {},
   "outputs": [],
   "source": [
    "def predict(X, theta):\n",
    "    '''\n",
    "    Use the model to predict values for each instance in X\n",
    "    Arguments:\n",
    "        theta is d-dimensional numpy vector\n",
    "        X     is a n-by-d numpy matrix\n",
    "    Returns:\n",
    "        an n-dimensional numpy vector of the predictions, the output should be binary (use h_theta > .5)\n",
    "    '''\n",
    "    \n",
    "    Y = None\n",
    "    ### START CODE HERE ###\n",
    "    Y = np.dot(X, theta)\n",
    "    Y = np.where(Y > 0.5, 1, 0)\n",
    "    ### END CODE HERE ###\n",
    "    return Y"
   ]
  },
  {
   "cell_type": "markdown",
   "id": "246d1c02",
   "metadata": {},
   "source": [
    "Now, run the `fit` and `predict` function for different values of the learning rate and regularization constant. Plot the `loss_history` of these different values for train and test data both in the same figure.\n",
    "\n",
    "**Question**: Discuss the effect of the learning rate and regularization constant and find the best values of these parameters.\n",
    "\n",
    "**Answer**:\n",
    "\n",
    "### Effect of Learning Rate and Regularization Constant\n",
    "\n",
    "#### Learning Rate:\n",
    "The learning rate controls the step size in gradient descent and thus significantly affects the convergence speed and stability of the training process. A larger learning rate can lead to faster convergence but may also cause overshooting, resulting in unstable training. On the other hand, a smaller learning rate may lead to slower convergence but can provide more stable training. It's essential to find a balance where the learning rate is neither too large nor too small to ensure efficient training.\n",
    "\n",
    "#### Regularization Constant:\n",
    "The regularization constant plays a crucial role in controlling overfitting by penalizing large weights in the model. A larger regularization constant penalizes large weights more strongly, encouraging the model to learn simpler patterns and potentially improving generalization to unseen data. Conversely, a smaller regularization constant allows the model to fit the training data more closely but may lead to overfitting. It's important to choose an appropriate regularization constant to achieve the right balance between fitting the training data well and preventing overfitting.\n",
    "\n",
    "#### Best Parameter Values:\n",
    "To find the best values of the learning rate and regularization constant, we need to experiment with different combinations and evaluate their performance on a validation set or through cross-validation. The goal is to identify parameter values that result in the lowest loss on the test data while also ensuring that the model generalizes well to unseen data and doesn't overfit the training set. This process may require iterative experimentation and fine-tuning to achieve optimal performance.\n"
   ]
  },
  {
   "cell_type": "code",
   "execution_count": 20,
   "id": "cd2af382",
   "metadata": {},
   "outputs": [
    {
     "name": "stderr",
     "output_type": "stream",
     "text": [
      "C:\\Users\\Asus\\AppData\\Local\\Temp\\ipykernel_15052\\1965551087.py:30: RuntimeWarning: overflow encountered in square\n",
      "  loss = np.mean(error ** 2) + regLambda * np.sum(theta[1:] ** 2)\n",
      "C:\\Users\\Asus\\AppData\\Local\\Temp\\ipykernel_15052\\1965551087.py:38: RuntimeWarning: invalid value encountered in subtract\n",
      "  theta_new = theta - alpha * gradient\n"
     ]
    },
    {
     "data": {
      "image/png": "[encoded data removed]",
      "text/plain": [
       "<Figure size 1200x800 with 1 Axes>"
      ]
     },
     "metadata": {},
     "output_type": "display_data"
    }
   ],
   "source": [
    "import matplotlib.pyplot as plt\n",
    "\n",
    "# Define a range of values for the learning rate and regularization constant\n",
    "learning_rates = [0.001, 0.01, 0.1]\n",
    "regularization_constants = [0.001, 0.01, 0.1]\n",
    "\n",
    "# Initialize lists to store results\n",
    "train_losses = []\n",
    "test_losses = []\n",
    "\n",
    "# Iterate over all combinations of learning rate and regularization constant\n",
    "for alpha in learning_rates:\n",
    "    for regLambda in regularization_constants:\n",
    "        # Train the model\n",
    "        theta, train_loss_history = fit(X_train, Y_train, regLambda=regLambda, alpha=alpha)\n",
    "        \n",
    "        # Make predictions on the training and test data\n",
    "        train_predictions = predict(X_train, theta)\n",
    "        test_predictions = predict(X_test, theta)\n",
    "        \n",
    "        # Calculate loss on training and test data\n",
    "        train_loss = np.mean((train_predictions - Y_train) ** 2)\n",
    "        test_loss = np.mean((test_predictions - Y_test) ** 2)\n",
    "        \n",
    "        # Append losses to the lists\n",
    "        train_losses.append(train_loss_history)\n",
    "        test_losses.append(test_loss)\n",
    "\n",
    "# Plot the loss history for different values of learning rate and regularization constant\n",
    "plt.figure(figsize=(12, 8))\n",
    "for i, (alpha, regLambda) in enumerate(zip(learning_rates * len(regularization_constants), \n",
    "                                            regularization_constants * len(learning_rates))):\n",
    "    plt.plot(train_losses[i], label=f\"Train (alpha={alpha}, lambda={regLambda})\")\n",
    "    plt.plot(test_losses[i], label=f\"Test (alpha={alpha}, lambda={regLambda})\")\n",
    "\n",
    "plt.title(\"Loss History for Different Learning Rates and Regularization Constants\")\n",
    "plt.xlabel(\"Iteration\")\n",
    "plt.ylabel(\"Loss\")\n",
    "plt.legend()\n",
    "plt.grid(True)\n",
    "plt.show()\n"
   ]
  },
  {
   "cell_type": "markdown",
   "id": "11babf15",
   "metadata": {},
   "source": [
    "## Naive Bayes\n",
    "\n",
    "In this part, you will use the `GaussianNB` classifier to classify the data. You should not change the default parameters of this classifier. First, train the classifier on the training set and then find the accuracy of it on the test set.\n",
    "\n",
    "**Question**: What is the accuracy of this method on test set?\n",
    "\n",
    "**Answer**:\n",
    "\n",
    "To find the accuracy of the Gaussian Naive Bayes classifier on the test set, we need to follow these steps:\n",
    "\n",
    "1. Train the classifier on the training set.\n",
    "2. Use the trained classifier to predict labels for the test set.\n",
    "3. Compare the predicted labels with the true labels of the test set.\n",
    "4. Calculate the accuracy of the classifier."
   ]
  },
  {
   "cell_type": "code",
   "execution_count": 22,
   "id": "1ef450fb",
   "metadata": {},
   "outputs": [
    {
     "name": "stdout",
     "output_type": "stream",
     "text": [
      "Accuracy of Gaussian Naive Bayes classifier on test set: 0.921\n"
     ]
    }
   ],
   "source": [
    "### START CODE HERE ###\n",
    "from sklearn.naive_bayes import GaussianNB\n",
    "from sklearn.metrics import accuracy_score\n",
    "\n",
    "# Initialize Gaussian Naive Bayes classifier\n",
    "gnb = GaussianNB()\n",
    "\n",
    "# Train the classifier on the training set\n",
    "gnb.fit(X_train, Y_train)\n",
    "\n",
    "# Predict labels for the test set\n",
    "Y_pred = gnb.predict(X_test)\n",
    "\n",
    "# Calculate accuracy\n",
    "accuracy = accuracy_score(Y_test, Y_pred)\n",
    "\n",
    "print(\"Accuracy of Gaussian Naive Bayes classifier on test set:\", accuracy)\n",
    "\n",
    "### END CODE HERE ###"
   ]
  },
  {
   "cell_type": "markdown",
   "id": "b371657d",
   "metadata": {},
   "source": [
    "## LDA (Linear Discriminant Analysis)\n",
    "\n",
    "In this part, you will use the `LinearDiscriminantAnalysis` classifier to classify the data. You should not change the default parameters of this classifier. First, train the classifier on the training set and then find the accuracy of it on the test set.\n",
    "\n",
    "**Question**: What is the accuracy of this method on test set?\n",
    "\n",
    "**Answer**:\n",
    "\n",
    "To find the accuracy of the Linear Discriminant Analysis (LDA) classifier on the test set, we can follow a similar approach as we did for the Gaussian Naive Bayes classifier:\n",
    "\n",
    "1. Train the classifier on the training set.\n",
    "2. Use the trained classifier to predict labels for the test set.\n",
    "3. Compare the predicted labels with the true labels of the test set.\n",
    "4. Calculate the accuracy of the classifier."
   ]
  },
  {
   "cell_type": "code",
   "execution_count": 23,
   "id": "92cc8743",
   "metadata": {},
   "outputs": [
    {
     "name": "stdout",
     "output_type": "stream",
     "text": [
      "Accuracy of Linear Discriminant Analysis classifier on test set: 0.968\n"
     ]
    }
   ],
   "source": [
    "### START CODE HERE ###\n",
    "from sklearn.discriminant_analysis import LinearDiscriminantAnalysis\n",
    "from sklearn.metrics import accuracy_score\n",
    "\n",
    "# Initialize Linear Discriminant Analysis classifier\n",
    "lda = LinearDiscriminantAnalysis()\n",
    "\n",
    "# Train the classifier on the training set\n",
    "lda.fit(X_train, Y_train)\n",
    "\n",
    "# Predict labels for the test set\n",
    "Y_pred = lda.predict(X_test)\n",
    "\n",
    "# Calculate accuracy\n",
    "accuracy = accuracy_score(Y_test, Y_pred)\n",
    "\n",
    "print(\"Accuracy of Linear Discriminant Analysis classifier on test set:\", accuracy)\n",
    "\n",
    "### END CODE HERE ###"
   ]
  },
  {
   "cell_type": "markdown",
   "id": "47736bdf",
   "metadata": {},
   "source": [
    "## Conclution\n",
    "\n",
    "**Question**: What is the best method for classifying this dataset? What is the best accuracy on the test set?\n",
    "\n",
    "**Answer**:"
   ]
  }
 ],
 "metadata": {
  "kernelspec": {
   "display_name": "Python 3 (ipykernel)",
   "language": "python",
   "name": "python3"
  },
  "language_info": {
   "codemirror_mode": {
    "name": "ipython",
    "version": 3
   },
   "file_extension": ".py",
   "mimetype": "text/x-python",
   "name": "python",
   "nbconvert_exporter": "python",
   "pygments_lexer": "ipython3",
   "version": "3.10.9"
  }
 },
 "nbformat": 4,
 "nbformat_minor": 5
}
